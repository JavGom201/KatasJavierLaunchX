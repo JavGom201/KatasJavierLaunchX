{
 "cells": [
  {
   "cell_type": "markdown",
   "metadata": {},
   "source": [
    "# Kata 2 evidencias\n",
    "![title](img/Modulo2Katas.png)"
   ]
  }
 ],
 "metadata": {
  "interpreter": {
   "hash": "4d434aa9d1a8e9133b9375ff956e71fb300ecbea9da6ec664a46e089a6acc1ac"
  },
  "kernelspec": {
   "display_name": "Python 3.10.2 64-bit",
   "name": "python3"
  },
  "language_info": {
   "name": "python",
   "version": "3.10.2"
  },
  "orig_nbformat": 4
 },
 "nbformat": 4,
 "nbformat_minor": 2
}
